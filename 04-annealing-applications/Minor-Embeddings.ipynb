{
 "cells": [
  {
   "cell_type": "markdown",
   "metadata": {},
   "source": [
    "## Minor embeddings"
   ]
  },
  {
   "cell_type": "markdown",
   "metadata": {},
   "source": [
    "The problem we just solved was quite small, and each node had very few connections. For more tightly connected graphs, however, we will run into problems. In the chimera graph, each qubit is connected to at most 6 others. What do we if our problem requires more?\n",
    "\n",
    "The solution here is to find something called a _minor embedding_. This involves embedding a smaller graph into a large one where clusters of nodes will couple together as one in order to allow for more external connections. This will be easier to understand with some pictures."
   ]
  },
  {
   "cell_type": "code",
   "execution_count": null,
   "metadata": {},
   "outputs": [],
   "source": [
    "from minorminer import find_embedding\n",
    "import networkx as nx\n",
    "import dwave_networkx as dnx\n",
    "import numpy as np\n",
    "import matplotlib.pyplot as plt"
   ]
  },
  {
   "cell_type": "markdown",
   "metadata": {},
   "source": [
    "First, let's look at our old graph and see how we can map it onto D-Wave's chimera hardware."
   ]
  },
  {
   "cell_type": "code",
   "execution_count": null,
   "metadata": {},
   "outputs": [],
   "source": [
    "n_vertices = 4\n",
    "n_edges = 3\n",
    "\n",
    "# We are going to colour the nodes to make it easier to see in the embedding which \n",
    "# embedded nodes belong to which original nodes\n",
    "colours = [tuple(np.random.rand(4, )) for x in range(n_vertices)]\n",
    "\n",
    "graph = nx.gnm_random_graph(n_vertices, n_edges)\n",
    "nx.draw(graph, with_labels=True, node_color=colours)"
   ]
  },
  {
   "cell_type": "markdown",
   "metadata": {},
   "source": [
    "Here is a single unit cell of a chimera graph"
   ]
  },
  {
   "cell_type": "code",
   "execution_count": null,
   "metadata": {},
   "outputs": [],
   "source": [
    "chimera_unit_cell = dnx.chimera_graph(1, 1, 4)\n",
    "dnx.draw_chimera(chimera_unit_cell, with_labels=True)"
   ]
  },
  {
   "cell_type": "markdown",
   "metadata": {},
   "source": [
    "Now let's find and display a minor embedding of our graph onto the unit cell; it should fit no problem."
   ]
  },
  {
   "cell_type": "code",
   "execution_count": null,
   "metadata": {},
   "outputs": [],
   "source": [
    "embedding = find_embedding(graph.edges(), chimera_unit_cell.edges())\n",
    "colour_dict = {}\n",
    "for node_idx in range(len(graph.nodes)):\n",
    "    if node_idx in embedding.keys():\n",
    "        colour_dict[node_idx] = colours[node_idx]\n",
    "    else:\n",
    "        colour_dict[node_idx] = None"
   ]
  },
  {
   "cell_type": "code",
   "execution_count": null,
   "metadata": {},
   "outputs": [],
   "source": [
    "nx.draw(graph, with_labels=True, node_color=colours)"
   ]
  },
  {
   "cell_type": "code",
   "execution_count": null,
   "metadata": {},
   "outputs": [],
   "source": [
    "#embedding = find_embedding(graph.edges(), chimera_unit_cell.edges())\n",
    "dnx.draw_chimera_embedding(chimera_unit_cell, embedding, with_labels=True, chain_color=colour_dict)"
   ]
  },
  {
   "cell_type": "markdown",
   "metadata": {},
   "source": [
    "Now let's try something larger - we'll need 4 unit cells for this."
   ]
  },
  {
   "cell_type": "code",
   "execution_count": null,
   "metadata": {},
   "outputs": [],
   "source": [
    "n_vertices = 10\n",
    "n_edges = 30\n",
    "\n",
    "colours = [tuple(np.random.rand(4, )) for x in range(n_vertices)]\n",
    "\n",
    "graph = nx.gnm_random_graph(n_vertices, n_edges)\n",
    "nx.draw(graph, with_labels=True, node_color=colours)"
   ]
  },
  {
   "cell_type": "code",
   "execution_count": null,
   "metadata": {},
   "outputs": [],
   "source": [
    "chimera_layout = dnx.chimera_graph(2, 2, 4)\n",
    "embedding = find_embedding(graph.edges(), chimera_layout.edges())\n",
    "colour_dict = {}\n",
    "for node_idx in range(len(graph.nodes)):\n",
    "    if node_idx in embedding.keys():\n",
    "        colour_dict[node_idx] = colours[node_idx]\n",
    "    else:\n",
    "        colour_dict[node_idx] = None\n",
    "dnx.draw_chimera_embedding(chimera_layout, embedding, with_labels=True, chain_color=colour_dict)"
   ]
  }
 ],
 "metadata": {
  "kernelspec": {
   "display_name": "Python 3",
   "language": "python",
   "name": "python3"
  },
  "language_info": {
   "codemirror_mode": {
    "name": "ipython",
    "version": 3
   },
   "file_extension": ".py",
   "mimetype": "text/x-python",
   "name": "python",
   "nbconvert_exporter": "python",
   "pygments_lexer": "ipython3",
   "version": "3.6.5"
  }
 },
 "nbformat": 4,
 "nbformat_minor": 2
}
