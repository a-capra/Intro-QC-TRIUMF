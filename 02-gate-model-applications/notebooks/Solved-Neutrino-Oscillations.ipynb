{
 "cells": [
  {
   "cell_type": "markdown",
   "metadata": {},
   "source": [
    "# Challenge problem: neutrino oscillations"
   ]
  },
  {
   "cell_type": "markdown",
   "metadata": {},
   "source": [
    "This notebook is meant to get you started towards implementing the neutrino oscillation procedure detailed in http://arxiv.org/abs/1904.10559. The paper shows the details for both 2- and 3-flavour oscillations, but we'll focus here on just two, $\\nu_e$ and $\\nu_\\mu$. Specifically, we will work on reproducing Figure 2, where we will plot the 'survival' probability of the electron neutrino."
   ]
  },
  {
   "cell_type": "markdown",
   "metadata": {},
   "source": [
    "### Derivations and important physical constants"
   ]
  },
  {
   "cell_type": "markdown",
   "metadata": {},
   "source": [
    "Recall from the lectures that I showed an expression for the probability of $\\nu_e$ turning into a $\\nu_\\mu$:\n",
    "\\begin{equation}\n",
    "P_{\\nu_e \\rightarrow \\nu_\\mu} = |\\nu_\\mu(t)|^2 = \\left[ \\sin(2\\theta) \\sin \\left( \\frac{E_2 - E_1}{2\\hbar}t \\right) \\right]^2\n",
    "\\end{equation}\n",
    "\n",
    "Oftentimes this is expressed in terms of travel distance $L$ and a neutrino energy $E$, using the correspondence $E_i = |p|^2 c^2 + m_i^2 c^4$ and making some approximations, such as $L \\approx ct$ for particles travelling at close to the speed of light:\n",
    "\\begin{eqnarray}\n",
    "P_{\\nu_e \\rightarrow \\nu_\\mu} =  |\\nu_\\mu(t)|^2 &=& \\left[ \\sin(2\\theta) \\sin \\left( \\frac{(m_{\\nu_\\mu}^2  - m^2_{\\nu_e})}{2\\hbar} \\frac{L}{E} \\right) \\right]^2 \\\\\n",
    "&=&  \\left[ \\sin(2\\theta) \\sin \\left( \\frac{\\Delta m^2}{2\\hbar c} \\frac{L}{E} \\right) \\right]^2 \n",
    "\\end{eqnarray}\n",
    "where $\\Delta m^2$ is shorthand for $m_{\\nu_\\mu}^2  - m^2_{\\nu_e}$.\n",
    "For a full derivation of this, see, for examples,  Griffith's book _Introduction to Elementary Particles_. I'm just going to take it as a given."
   ]
  },
  {
   "cell_type": "markdown",
   "metadata": {},
   "source": [
    "**Task 1.** Track down the relevant constants you need: $\\theta$, $\\Delta m^2$ for electron and muon neutrinos, and $L$. You'll have to be really careful with units here, making sure you don't pick up (or lose) any rogue factors of $c$, etc. The physical neutrino parameters can be found online; the value of $L$ they used was from the KamLAND experiment (https://arxiv.org/pdf/hep-ex/0212021.pdf).\n"
   ]
  },
  {
   "cell_type": "code",
   "execution_count": null,
   "metadata": {},
   "outputs": [],
   "source": [
    "θ = 0.5867 # rad, Found on Wikipedia discussion of neutrino oscillation and PMNS matrix\n",
    "\n",
    "# Thanks to the authors Carlos and Benjamin for helping me out with this part!\n",
    "Δm_sq = 7.37e-5  # expressed in (eV / c^2)^2\n",
    "hbar_c = 1.97e-10 # expressed in eV * km\n",
    "L = 180 # km, from the experimental paper\n",
    "\n",
    "gev_conversion_factor = (1e-9)**2  / 1e-9 \n",
    "\n",
    "# This gives us a prefactor with units such that we can input an energy in GeV\n",
    "prefactor = (Δm_sq * L / (2 * hbar_c)) * gev_conversion_factor"
   ]
  },
  {
   "cell_type": "markdown",
   "metadata": {},
   "source": [
    "**Task 2.** Set up the required registers.\n",
    "\n",
    "For two-flavour oscillation, we only need to use a single qubit. So, we just need one quantum register with one qubit, and a classical register with a classical output bit."
   ]
  },
  {
   "cell_type": "code",
   "execution_count": null,
   "metadata": {},
   "outputs": [],
   "source": [
    "import numpy as np\n",
    "\n",
    "from qiskit import QuantumRegister, ClassicalRegister\n",
    "from qiskit import QuantumCircuit\n",
    "from qiskit import execute, BasicAer\n",
    "\n",
    "import matplotlib.pyplot as plt\n",
    "\n",
    "import warnings\n",
    "warnings.filterwarnings(\"ignore\", category=DeprecationWarning) "
   ]
  },
  {
   "cell_type": "code",
   "execution_count": null,
   "metadata": {},
   "outputs": [],
   "source": [
    "q = QuantumRegister(1)\n",
    "c = ClassicalRegister(1)"
   ]
  },
  {
   "cell_type": "markdown",
   "metadata": {},
   "source": [
    "**Task 3.** Write a function that will apply a circuit to your registers that (a) creates the initial superposition, (b) applies the evolution operator for a neutrino of specified energy, (c) measures the output.\n",
    "\n",
    "The way this is done in the paper is actually by using $|0\\rangle$ and $|1\\rangle$ to represent the flavour basis (instead of using them to represent the mass basis). This way our measurements are made in the flavour basis as well. So make sure you are applying the unitary basis transformations in the \"right\" direction."
   ]
  },
  {
   "cell_type": "code",
   "execution_count": null,
   "metadata": {},
   "outputs": [],
   "source": [
    "def oscillate(E, q, c):\n",
    "    circuit = QuantumCircuit(q, c)\n",
    "    \n",
    "    # First we convert from flavour basis to mass basis\n",
    "    circuit.u3(2*θ, 0, 0, q[0])\n",
    "    \n",
    "    # Next we apply the evolution operator\n",
    "    circuit.u1(prefactor / E, q[0])\n",
    "\n",
    "    # Then we undo the basis change\n",
    "    circuit.u3(-2*θ, 0, 0, q[0])\n",
    "    \n",
    "    circuit.measure(q, c)\n",
    "    \n",
    "    return circuit"
   ]
  },
  {
   "cell_type": "markdown",
   "metadata": {},
   "source": [
    "**Task 4.** Simulate your circuit for varying energies, and plot the results."
   ]
  },
  {
   "cell_type": "code",
   "execution_count": null,
   "metadata": {},
   "outputs": [],
   "source": [
    "energy_range = list(np.linspace(2, 12, 200))\n",
    "probs = []\n",
    "n_shots = 10000\n",
    "\n",
    "for E in energy_range:\n",
    "    neutrino_circuit = oscillate(E / 1000, q, c)\n",
    "    \n",
    "    backend = BasicAer.get_backend('qasm_simulator') # the device to run on\n",
    "    result = execute(neutrino_circuit, backend, shots=n_shots).result()\n",
    "    counts = result.get_counts(neutrino_circuit)\n",
    "    \n",
    "    # Extract the probabilities\n",
    "    if '0' in counts.keys():\n",
    "        p_0 = counts['0'] / n_shots\n",
    "        p_1 = 1 - p_0\n",
    "    else:\n",
    "        p_1 = counts['1'] / n_shots\n",
    "        p_0 = 1 - p_1\n",
    "        \n",
    "    probs.append(p_0)    "
   ]
  }
 ],
 "metadata": {
  "kernelspec": {
   "display_name": "Python 3",
   "language": "python",
   "name": "python3"
  },
  "language_info": {
   "codemirror_mode": {
    "name": "ipython",
    "version": 3
   },
   "file_extension": ".py",
   "mimetype": "text/x-python",
   "name": "python",
   "nbconvert_exporter": "python",
   "pygments_lexer": "ipython3",
   "version": "3.6.5"
  }
 },
 "nbformat": 4,
 "nbformat_minor": 2
}
