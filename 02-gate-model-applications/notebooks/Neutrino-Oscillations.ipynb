{
 "cells": [
  {
   "cell_type": "markdown",
   "metadata": {},
   "source": [
    "# Challenge problem: neutrino oscillations"
   ]
  },
  {
   "cell_type": "markdown",
   "metadata": {},
   "source": [
    "This notebook is meant to get you started towards implementing the neutrino oscillation procedure detailed in http://arxiv.org/abs/1904.10559. The paper shows the details for both 2- and 3-flavour oscillations, but we'll focus here on just two, $\\nu_e$ and $\\nu_\\mu$. Specifically, we will work on reproducing Figure 2, where we will plot the 'survival' probability of the electron neutrino."
   ]
  },
  {
   "cell_type": "markdown",
   "metadata": {},
   "source": [
    "### Derivations and important physical constants"
   ]
  },
  {
   "cell_type": "markdown",
   "metadata": {},
   "source": [
    "Recall from the lectures that I showed an expression for the probability of $\\nu_e$ turning into a $\\nu_\\mu$:\n",
    "\\begin{equation}\n",
    "P_{\\nu_e \\rightarrow \\nu_\\mu} = |\\nu_\\mu(t)|^2 = \\left[ \\sin(2\\theta) \\sin \\left( \\frac{E_2 - E_1}{2\\hbar}t \\right) \\right]^2\n",
    "\\end{equation}\n",
    "\n",
    "Oftentimes this is expressed in terms of travel distance $L$ and a neutrino energy $E$, using the correspondence $E_i = |p|^2 c^2 + m_i^2 c^4$ and making some approximations, such as $L \\approx ct$ for particles travelling at close to the speed of light:\n",
    "\\begin{eqnarray}\n",
    "P_{\\nu_e \\rightarrow \\nu_\\mu} =  |\\nu_\\mu(t)|^2 &=& \\left[ \\sin(2\\theta) \\sin \\left( \\frac{(m_{\\nu_\\mu}^2  - m^2_{\\nu_e})}{2\\hbar} \\frac{L}{E} \\right) \\right]^2 \\\\\n",
    "&=&  \\left[ \\sin(2\\theta) \\sin \\left( \\frac{\\Delta m^2}{2\\hbar c} \\frac{L}{E} \\right) \\right]^2 \n",
    "\\end{eqnarray}\n",
    "where $\\Delta m^2$ is shorthand for $m_{\\nu_\\mu}^2  - m^2_{\\nu_e}$.\n",
    "For a full derivation of this, see, for examples,  Griffith's book _Introduction to Elementary Particles_. I'm just going to take it as a given."
   ]
  },
  {
   "cell_type": "markdown",
   "metadata": {},
   "source": [
    "**Task 1.** Track down the relevant constants you need: $\\theta$, $\\Delta m^2$ for electron and muon neutrinos, and $L$. You'll have to be really careful with units here, making sure you don't pick up (or lose) any rogue factors of $c$, etc. The physical neutrino parameters can be found online; the value of $L$ they used was from the KamLAND experiment (https://arxiv.org/pdf/hep-ex/0212021.pdf).\n"
   ]
  },
  {
   "cell_type": "code",
   "execution_count": null,
   "metadata": {},
   "outputs": [],
   "source": [
    "# Your constants go here"
   ]
  },
  {
   "cell_type": "markdown",
   "metadata": {},
   "source": [
    "**Task 2.** Set up the required registers."
   ]
  },
  {
   "cell_type": "code",
   "execution_count": null,
   "metadata": {},
   "outputs": [],
   "source": [
    "import numpy as np\n",
    "\n",
    "from qiskit import QuantumRegister, ClassicalRegister\n",
    "from qiskit import QuantumCircuit\n",
    "from qiskit import execute, BasicAer\n",
    "\n",
    "import matplotlib.pyplot as plt\n",
    "\n",
    "import warnings\n",
    "warnings.filterwarnings(\"ignore\", category=DeprecationWarning) "
   ]
  },
  {
   "cell_type": "code",
   "execution_count": null,
   "metadata": {},
   "outputs": [],
   "source": [
    "# Set up your registers here."
   ]
  },
  {
   "cell_type": "markdown",
   "metadata": {},
   "source": [
    "**Task 3.** Write a function that will apply a circuit to your registers that (a) creates the initial superposition, (b) applies the evolution operator for a neutrino of specified energy, (c) measures the output.\n",
    "\n",
    "The way this is done in the paper is actually by using $|0\\rangle$ and $|1\\rangle$ to represent the flavour basis (instead of using them to represent the mass basis). This way our measurements are made in the flavour basis as well. So make sure you are applying the unitary basis transformations in the \"right\" direction."
   ]
  },
  {
   "cell_type": "code",
   "execution_count": null,
   "metadata": {},
   "outputs": [],
   "source": [
    "def oscillate(E, q, c):\n",
    "    circuit = QuantumCircuit(q, c)\n",
    "    \n",
    "    # Your code here\n",
    "    \n",
    "    return circuit"
   ]
  },
  {
   "cell_type": "markdown",
   "metadata": {},
   "source": [
    "**Task 4.** Simulate your circuit for varying energies, and plot the results."
   ]
  },
  {
   "cell_type": "code",
   "execution_count": null,
   "metadata": {},
   "outputs": [],
   "source": [
    "# Here is some boilerplate code for running and measuring the circuit, so \n",
    "# you don't have to worry about these details\n",
    "#  neutrino_circuit = oscillate(E, q, c)  \n",
    "#  backend = BasicAer.get_backend('qasm_simulator') # the device to run on\n",
    "#  result = execute(neutrino_circuit, backend, shots=n_shots).result()\n",
    "#  counts = result.get_counts(neutrino_circuit)"
   ]
  }
 ],
 "metadata": {
  "kernelspec": {
   "display_name": "Python 3",
   "language": "python",
   "name": "python3"
  },
  "language_info": {
   "codemirror_mode": {
    "name": "ipython",
    "version": 3
   },
   "file_extension": ".py",
   "mimetype": "text/x-python",
   "name": "python",
   "nbconvert_exporter": "python",
   "pygments_lexer": "ipython3",
   "version": "3.6.5"
  }
 },
 "nbformat": 4,
 "nbformat_minor": 2
}
