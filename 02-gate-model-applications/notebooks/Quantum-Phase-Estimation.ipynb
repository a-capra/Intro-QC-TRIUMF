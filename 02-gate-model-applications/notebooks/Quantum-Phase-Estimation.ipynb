{
 "cells": [
  {
   "cell_type": "markdown",
   "metadata": {},
   "source": [
    "# Quantum phase estimation"
   ]
  },
  {
   "cell_type": "markdown",
   "metadata": {},
   "source": [
    "Your task in this notebook is to implement the quantum Fourier transform on a set of 3 qubits in Qiskit, and then use it to estimate the eigenvalue of a simple Hamiltonian."
   ]
  },
  {
   "cell_type": "markdown",
   "metadata": {},
   "source": [
    "### Part A: Implementing the QFT"
   ]
  },
  {
   "cell_type": "code",
   "execution_count": null,
   "metadata": {},
   "outputs": [],
   "source": [
    "import numpy as np\n",
    "\n",
    "from qiskit import QuantumRegister, ClassicalRegister\n",
    "from qiskit import QuantumCircuit\n",
    "from qiskit import execute, BasicAer\n",
    "\n",
    "import qiskit.tools.visualization as qvis\n",
    "\n",
    "import warnings\n",
    "warnings.filterwarnings(\"ignore\", category=DeprecationWarning) "
   ]
  },
  {
   "cell_type": "markdown",
   "metadata": {},
   "source": [
    "**Task 1.** In the lecture slides I showed the QFT in general; using this template, write out the circuit for the 3-qubit case. Don't forget the SWAP at the end!  "
   ]
  },
  {
   "cell_type": "markdown",
   "metadata": {},
   "source": [
    "**Task 2.** Recall that the rotations have the form\n",
    "\\begin{equation}\n",
    " R_k = \\begin{pmatrix}\n",
    "       1 & 0 \\\\ 0 & e^{2\\pi i / 2^k}\n",
    "       \\end{pmatrix}\n",
    "\\end{equation}\n",
    "Evaluate the unitary operations for the rotations present in Task 1. Do these gates look familiar?"
   ]
  },
  {
   "cell_type": "markdown",
   "metadata": {},
   "source": [
    "** Task 3.** Now it's time to implement the circuit. I've set up a 3-qubit quantum register, so all you have to do is implement the gates. For reference, [this page](https://qiskit.org/documentation/terra/summary_of_quantum_operations.html#controlled-operations-on-qubits) contains information on the gates you can implement natively in Qiskit. Hint: look at the `cu1` gates."
   ]
  },
  {
   "cell_type": "code",
   "execution_count": null,
   "metadata": {},
   "outputs": [],
   "source": [
    "# Empty register\n",
    "q = QuantumRegister(3)\n",
    "\n",
    "# This object will be our circuit\n",
    "qft = QuantumCircuit(q)\n",
    "\n",
    "# Apply gates to the first qubit\n",
    "\n",
    "# Apply gates to the second qubit\n",
    "\n",
    "# Apply  remaining gates"
   ]
  },
  {
   "cell_type": "markdown",
   "metadata": {},
   "source": [
    "### Part B: Eigenvalue estimation"
   ]
  },
  {
   "cell_type": "markdown",
   "metadata": {},
   "source": [
    "In this part, we're going to implement the phase estimation algorithm to get the eigenvalue of the following unitary:\n",
    "\\begin{equation}\n",
    " U = \\begin{pmatrix}\n",
    "       1 & 0 \\\\ \n",
    "       0 & e^{5\\pi i / 4} \\\\\n",
    "       \\end{pmatrix}\n",
    "\\end{equation}"
   ]
  },
  {
   "cell_type": "markdown",
   "metadata": {},
   "source": [
    "** Task 4. ** What is the eigenvalue $\\varphi$ of this matrix as expressed in the phase estimation problem, i.e. $e^{2\\pi i \\varphi}$? What is its expansion in the notation $0.\\varphi_1 \\cdots \\varphi_n$? How many qubits do you need to represent this exactly?"
   ]
  },
  {
   "cell_type": "markdown",
   "metadata": {},
   "source": [
    "Now let's set up the two quantum registers: one for the qubits to represent phase, and 1 for the eigenvector since it is a 2-dimensional vector. We'll also need some classical bits to hold the measurement outcomes of the phase register."
   ]
  },
  {
   "cell_type": "code",
   "execution_count": null,
   "metadata": {},
   "outputs": [],
   "source": [
    "# Change this to the number of qubits needed in your upper register\n",
    "n_phase_qubits = -1 \n",
    "\n",
    "ph_reg = QuantumRegister(n_phase_qubits)\n",
    "eig_reg = QuantumRegister(1)\n",
    "meas_reg = ClassicalRegister(n_phase_qubits)\n",
    "\n",
    "qpe = QuantumCircuit(ph_reg, eig_reg, meas_reg)"
   ]
  },
  {
   "cell_type": "markdown",
   "metadata": {},
   "source": [
    "** Task 5. ** Apply the phase estimation algorithm to your registers. Recall that you'll also need to initialize the eigenvector register into the proper eigenvector."
   ]
  },
  {
   "cell_type": "code",
   "execution_count": null,
   "metadata": {},
   "outputs": [],
   "source": [
    "# Initialize the eigenvector in the lower register\n",
    "# \n",
    "\n",
    "\n",
    "# Perform the phase estimation; we're applying a controlled U varying amounts of times\n",
    "# "
   ]
  },
  {
   "cell_type": "markdown",
   "metadata": {},
   "source": [
    "** Task 6. ** Apply the inverse QFT to your phase register.\n",
    "\n",
    "Note: unfortunately, Qiskit does not yet support a simple circuit reversal operation; so you'll have to manually list the inverses of each gate. Don't forget to take the adjoint!"
   ]
  },
  {
   "cell_type": "code",
   "execution_count": null,
   "metadata": {},
   "outputs": [],
   "source": [
    "# Apply the inverse QFT to the phase register of the qpe circuit "
   ]
  },
  {
   "cell_type": "markdown",
   "metadata": {},
   "source": [
    "** Final task. ** Let's simulate the circuit and measure to get the vector corresponding to our phase!"
   ]
  },
  {
   "cell_type": "code",
   "execution_count": null,
   "metadata": {},
   "outputs": [],
   "source": [
    "qpe.measure(ph_reg, meas_reg)\n",
    "\n",
    "backend = BasicAer.get_backend('qasm_simulator') # the device to run on\n",
    "result = execute(qpe, backend, shots=1000).result()\n",
    "counts = result.get_counts(qpe)\n",
    "\n",
    "eigenvalue = 0\n",
    "\n",
    "# Your code here: Extract the counts and compute the decimal value\n",
    "# Recall that Qiskit measurement results come out 'backwards', so make sure\n",
    "# to put the output computational basis state in the reverse order first\n",
    "\n",
    "print(f\"Phase estimation routine returned the eigenvalue {eigenvalue}.\")"
   ]
  }
 ],
 "metadata": {
  "kernelspec": {
   "display_name": "Python 3",
   "language": "python",
   "name": "python3"
  },
  "language_info": {
   "codemirror_mode": {
    "name": "ipython",
    "version": 3
   },
   "file_extension": ".py",
   "mimetype": "text/x-python",
   "name": "python",
   "nbconvert_exporter": "python",
   "pygments_lexer": "ipython3",
   "version": "3.6.5"
  }
 },
 "nbformat": 4,
 "nbformat_minor": 2
}
